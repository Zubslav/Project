{
 "cells": [
  {
   "cell_type": "markdown",
   "metadata": {},
   "source": [
    "<h3>Import dependencies</h3>"
   ]
  },
  {
   "cell_type": "code",
   "execution_count": 1,
   "metadata": {},
   "outputs": [],
   "source": [
    "from time import time\n",
    "import pandas as pd\n",
    "from bs4 import BeautifulSoup\n",
    "import requests\n",
    "headerss = {'User-Agent': 'Mozilla/5.0 (Macintosh; Intel Mac OS X 10_10_1)  \\\n",
    "    AppleWebKit/537.36 (KHTML, like Gecko) Chrome/39.0.2171.95 Safari/537.36'}\n",
    "columnss = ('href', 'name', 'condition', 'date', 'bid', 'n_bid', 'rating', 'n_rat', 'seller')"
   ]
  },
  {
   "cell_type": "markdown",
   "metadata": {},
   "source": [
    "<h3>Main function</h3>"
   ]
  },
  {
   "cell_type": "code",
   "execution_count": 3,
   "metadata": {},
   "outputs": [],
   "source": [
    "not_parsed = []\n",
    "def get_ebay_row(site):\n",
    "    try:\n",
    "        wrong_soup = BeautifulSoup(requests.get(site).content, 'lxml')\n",
    "        correct_site = wrong_soup.find('a', {'class': 'cvip-item-card-details__view-link'})['href']\n",
    "        soup = BeautifulSoup(requests.get(correct_site).content, 'lxml')\n",
    "        name = soup.find('h1', {'id': 'itemTitle'}).text\n",
    "        try:\n",
    "            condition = soup.find('div', {'itemprop': 'itemCondition'}).text\n",
    "        except:\n",
    "            condition = None\n",
    "        date = soup.find('span', {'id': 'bb_tlft'}).text.strip().split('\\n')[0]\n",
    "        bid = soup.find('span', {'id': 'convbidPrice'}).text.split('.')[0].split(' ')[0]\n",
    "        n_bid = soup.find('span', {'id': 'qty-test'}).text\n",
    "        try:\n",
    "            rating = soup.find('span', {'class': 'ebay-review-start-rating'}).text.strip()\n",
    "            n_rat = soup.find('a', {'class': 'prodreview vi-VR-prodRev'}).text.strip().split(' ')[0]\n",
    "        except:\n",
    "            rating, n_rat = None, None\n",
    "        try:\n",
    "            seller = soup.find('span', {'class': 'mbg-nw'}).text\n",
    "        except:\n",
    "            seller = None\n",
    "        return (correct_site, name, condition, date, bid, n_bid, rating, n_rat, seller)\n",
    "    except Exception as e:\n",
    "        not_parsed.append(site)\n",
    "        return"
   ]
  },
  {
   "cell_type": "markdown",
   "metadata": {},
   "source": [
    "<h3>Collect data</h3>"
   ]
  },
  {
   "cell_type": "code",
   "execution_count": null,
   "metadata": {},
   "outputs": [],
   "source": [
    "table = []\n",
    "grandmother_url = 'https://www.ebay.com/sch/i.html?LH_Auction=1&LH_Complete=1&_from=R40&_sacat=0&_nkw=iphone+8+plus'\n",
    "beggo_url = grandmother_url + '&rt=nc'\n",
    "beggo_soup = BeautifulSoup(requests.get(beggo_url).content, 'lxml')\n",
    "count = 0\n",
    "for i in beggo_soup.find_all('a', {'class': 'vip'}):\n",
    "    table.append(get_ebay_row(i['href']))\n",
    "for i in range(2,34):\n",
    "    count += 200\n",
    "    if len(table)%100 == 0:\n",
    "        print('Собрали уже {}'.format(len(table)))\n",
    "        print('говносайты: {}'.format(len(not_parsed)))\n",
    "    if len(shitty_sites)%100 == 0:\n",
    "        print('говносайты растут: {}'.format(len(not_parsed)))\n",
    "    try:\n",
    "        mother_url = grandmother_url + '&_pgn=' + str(i) + '&_skc=' + str(count) + '&rt=nc'\n",
    "        mother_soup = BeautifulSoup(requests.get(mother_url).content, 'lxml')\n",
    "        for i in mother_soup.find_all('a', {'class': 'vip'}):\n",
    "            table.append(get_ebay_row(i['href']))\n",
    "    except Exception as e:\n",
    "        print('На {} итерации косяк: {}'.format(i, e))\n",
    "        pass"
   ]
  },
  {
   "cell_type": "markdown",
   "metadata": {},
   "source": [
    "<h3>Comvert to excel</h3>"
   ]
  },
  {
   "cell_type": "code",
   "execution_count": null,
   "metadata": {},
   "outputs": [],
   "source": [
    "pd.DataFrame(Table, columns=columnss).to_excel(r'C:\\Users\\Андрей\\Desktop\\aleyounenenen.xlsx',index=False, header=True)"
   ]
  }
 ],
 "metadata": {
  "kernelspec": {
   "display_name": "Python 3",
   "language": "python",
   "name": "python3"
  },
  "language_info": {
   "codemirror_mode": {
    "name": "ipython",
    "version": 3
   },
   "file_extension": ".py",
   "mimetype": "text/x-python",
   "name": "python",
   "nbconvert_exporter": "python",
   "pygments_lexer": "ipython3",
   "version": "3.6.7"
  }
 },
 "nbformat": 4,
 "nbformat_minor": 2
}
